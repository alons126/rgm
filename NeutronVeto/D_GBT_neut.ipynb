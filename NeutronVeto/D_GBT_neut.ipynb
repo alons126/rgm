{
 "cells": [
  {
   "cell_type": "code",
   "execution_count": 3,
   "id": "educated-mistress",
   "metadata": {},
   "outputs": [],
   "source": [
    "from sklearn import tree\n",
    "import numpy as np\n",
    "import matplotlib.pyplot as plt\n",
    "from glob import glob\n",
    "from sklearn.ensemble import GradientBoostingClassifier, RandomForestClassifier, AdaBoostClassifier\n",
    "from sklearn.metrics import accuracy_score, confusion_matrix, classification_report\n",
    "from sklearn.model_selection import train_test_split\n",
    "from sklearn import metrics"
   ]
  },
  {
   "cell_type": "code",
   "execution_count": 20,
   "id": "satellite-prince",
   "metadata": {},
   "outputs": [
    {
     "name": "stdout",
     "output_type": "stream",
     "text": [
      "(95742, 8)\n",
      "(378055, 8)\n",
      "[]\n"
     ]
    }
   ],
   "source": [
    "# CONCATENATE ALL INTO ONE TXT FILE IN BKND_TXT\n",
    "# THEN READ THAT FILE IN\n",
    "\n",
    "#cols = [0,1,3,4,5,6,7,8]\n",
    "\n",
    "filepath = \"/lustre19/expphy/volatile/clas12/users/erins/neutron-veto/d_2gev/2gev_txt/\"\n",
    "neutron_names = glob(filepath + \"goodn_jus_pCD_015*.txt\")\n",
    "n_arrays = [np.genfromtxt(f, invalid_raise=False) for f in neutron_names]\n",
    "ndata = np.concatenate(n_arrays, axis=0)[:,:]\n",
    "# only 333 neutrons in e'p\n",
    "\n",
    "\n",
    "proton_names = glob(filepath + \"badn_jus_pCD_015*.txt\")\n",
    "p_arrays = [np.genfromtxt(f, invalid_raise=False) for f in proton_names]\n",
    "pdata = np.concatenate(p_arrays, axis=0)[:,:]\n",
    "\n",
    "\n",
    "ny = np.ones(len(ndata)) # neutrons - assigned 1\n",
    "py = np.zeros(len(pdata)) # protons - assigned 0\n",
    "\n",
    "print(np.shape(ndata))\n",
    "print(np.shape(pdata))\n",
    "\n",
    "myX = np.concatenate((ndata,pdata),axis=0)\n",
    "myX = np.nan_to_num(myX, nan=0)\n",
    "myY = np.concatenate((ny,py),axis=0)\n",
    "print(np.argwhere(np.isnan(myX)))\n",
    "\n",
    "# number of good neutrons (pCDn): 261,475\n",
    "# number of bad neutrons (pCDn): 476,958\n",
    "# number of good neutrons (pFDn): 8510\n",
    "# number of bad neutrons (pFDn):79338\n",
    "# if no theta_pmiss cut (pCDn), 3269k good neutrons\n",
    "# if no theta_pmiss cut (pCDn), 1.05M good neutrons"
   ]
  },
  {
   "cell_type": "code",
   "execution_count": 21,
   "id": "serious-culture",
   "metadata": {},
   "outputs": [
    {
     "name": "stdout",
     "output_type": "stream",
     "text": [
      "      Iter       Train Loss   Remaining Time \n",
      "         1           0.8977           39.61s\n",
      "         2           0.8330           39.35s\n",
      "         3           0.7890           39.19s\n",
      "         4           0.7575           38.83s\n",
      "         5           0.7337           38.26s\n",
      "         6           0.7157           37.66s\n",
      "         7           0.7019           37.27s\n",
      "         8           0.6913           36.88s\n",
      "         9           0.6828           36.41s\n",
      "        10           0.6759           35.93s\n",
      "        20           0.6497           31.95s\n",
      "        30           0.6443           28.15s\n",
      "        40           0.6416           24.30s\n",
      "        50           0.6389           20.35s\n",
      "        60           0.6368           16.34s\n",
      "        70           0.6348           12.26s\n",
      "        80           0.6331            8.18s\n",
      "        90           0.6311            4.10s\n",
      "       100           0.6292            0.00s\n",
      "Accuracy:\n",
      "0.8329973933874355\n",
      "0.822737521941473\n"
     ]
    }
   ],
   "source": [
    "X_train, X_test, y_train, y_test = train_test_split(\n",
    "    myX,\n",
    "    myY,\n",
    "    shuffle=True,\n",
    "    test_size=0.6,\n",
    ")\n",
    "\n",
    "from sklearn.preprocessing import StandardScaler\n",
    "\n",
    "\"\"\"sc = StandardScaler()\n",
    "X_train = sc.fit_transform(X_train)\n",
    "X_test = sc.transform(X_test)\"\"\"\n",
    "\n",
    "clf = GradientBoostingClassifier(learning_rate=0.2, max_depth=5, verbose=1)\n",
    "#clf = RandomForestClassifier(max_depth=5, random_state=0)\n",
    "\n",
    "clf.fit(X_train,y_train)\n",
    "\n",
    "print(\"Accuracy:\")\n",
    "print(clf.score(X_train,y_train))\n",
    "print(clf.score(X_test,y_test))"
   ]
  },
  {
   "cell_type": "code",
   "execution_count": 22,
   "id": "corrected-weight",
   "metadata": {},
   "outputs": [
    {
     "data": {
      "image/png": "[encoded data removed]",
      "text/plain": [
       "<Figure size 432x288 with 1 Axes>"
      ]
     },
     "metadata": {
      "needs_background": "light"
     },
     "output_type": "display_data"
    }
   ],
   "source": [
    "# ROC curve? illustrate tree application somehow\n",
    "metrics.plot_roc_curve(clf, X_test, y_test)\n",
    "plt.savefig(\"d2_accuracy.png\")\n",
    "# plot of accuracy or something"
   ]
  },
  {
   "cell_type": "code",
   "execution_count": 23,
   "id": "saving-advocate",
   "metadata": {},
   "outputs": [
    {
     "data": {
      "text/plain": [
       "<matplotlib.colorbar.Colorbar at 0x7f54ea67eac0>"
      ]
     },
     "execution_count": 23,
     "metadata": {},
     "output_type": "execute_result"
    },
    {
     "data": {
      "image/png": "[encoded data removed]",
      "text/plain": [
       "<Figure size 432x288 with 2 Axes>"
      ]
     },
     "metadata": {
      "needs_background": "light"
     },
     "output_type": "display_data"
    }
   ],
   "source": [
    "# confusion matrix\n",
    "y_pred_test = clf.predict(X_test)\n",
    "mat = confusion_matrix(y_test, y_pred_test)\n",
    "plt.imshow(mat)\n",
    "plt.colorbar()"
   ]
  },
  {
   "cell_type": "code",
   "execution_count": 24,
   "id": "black-general",
   "metadata": {},
   "outputs": [
    {
     "data": {
      "text/html": [
       "<div>\n",
       "<style scoped>\n",
       "    .dataframe tbody tr th:only-of-type {\n",
       "        vertical-align: middle;\n",
       "    }\n",
       "\n",
       "    .dataframe tbody tr th {\n",
       "        vertical-align: top;\n",
       "    }\n",
       "\n",
       "    .dataframe thead th {\n",
       "        text-align: right;\n",
       "    }\n",
       "</style>\n",
       "<table border=\"1\" class=\"dataframe\">\n",
       "  <thead>\n",
       "    <tr style=\"text-align: right;\">\n",
       "      <th></th>\n",
       "      <th>feature</th>\n",
       "      <th>importance</th>\n",
       "    </tr>\n",
       "  </thead>\n",
       "  <tbody>\n",
       "    <tr>\n",
       "      <th>7</th>\n",
       "      <td>angle diff CVT 12</td>\n",
       "      <td>0.564914</td>\n",
       "    </tr>\n",
       "    <tr>\n",
       "      <th>6</th>\n",
       "      <td>CTOF nearby hits</td>\n",
       "      <td>0.235744</td>\n",
       "    </tr>\n",
       "    <tr>\n",
       "      <th>3</th>\n",
       "      <td>CND nearby hits</td>\n",
       "      <td>0.102415</td>\n",
       "    </tr>\n",
       "    <tr>\n",
       "      <th>0</th>\n",
       "      <td>neutron energy</td>\n",
       "      <td>0.038285</td>\n",
       "    </tr>\n",
       "    <tr>\n",
       "      <th>5</th>\n",
       "      <td>CTOF nearby energy</td>\n",
       "      <td>0.020502</td>\n",
       "    </tr>\n",
       "    <tr>\n",
       "      <th>4</th>\n",
       "      <td>CND nearby energy</td>\n",
       "      <td>0.019123</td>\n",
       "    </tr>\n",
       "    <tr>\n",
       "      <th>1</th>\n",
       "      <td>CND layer multiplicity</td>\n",
       "      <td>0.018101</td>\n",
       "    </tr>\n",
       "    <tr>\n",
       "      <th>2</th>\n",
       "      <td>cluster size</td>\n",
       "      <td>0.000915</td>\n",
       "    </tr>\n",
       "  </tbody>\n",
       "</table>\n",
       "</div>"
      ],
      "text/plain": [
       "                  feature  importance\n",
       "7       angle diff CVT 12    0.564914\n",
       "6        CTOF nearby hits    0.235744\n",
       "3         CND nearby hits    0.102415\n",
       "0          neutron energy    0.038285\n",
       "5      CTOF nearby energy    0.020502\n",
       "4       CND nearby energy    0.019123\n",
       "1  CND layer multiplicity    0.018101\n",
       "2            cluster size    0.000915"
      ]
     },
     "execution_count": 24,
     "metadata": {},
     "output_type": "execute_result"
    }
   ],
   "source": [
    "import pandas as pd\n",
    "#feature_list = ['num recon n','is_CND1 (bool)','is_CND2 (bool)','is_CND3 (bool)','num layers',\n",
    "#                'num CND hits (event)','num CND ADCs (event)','num CND TDCs (event)',\n",
    "#                'num CTOF ADCs (event)','num CTOF TDCs (event)','num CND clusters','pindex',\n",
    "#                'sector','layer','component','energy','path','num CTOF hits','CTOF energy',\n",
    "#                '4NN','corners','8NN','time','status','dedx','size','CTOF hit match',\n",
    "#                'CTOF event energy','eN_angle','x','y','z']\n",
    "feature_list = [#'layer',\n",
    "                'neutron energy',\n",
    "                'CND layer multiplicity',#'z',\n",
    "                'cluster size',#'beta',\n",
    "                'CND nearby hits',\n",
    "                'CND nearby energy',\n",
    "                'CTOF nearby energy','CTOF nearby hits',\n",
    "                'angle diff CVT 12'\n",
    "                ]\n",
    "d = {'feature': feature_list, 'importance': clf.feature_importances_}\n",
    "df = pd.DataFrame(data=d)\n",
    "df.sort_values(by='importance', ascending=False)"
   ]
  },
  {
   "cell_type": "code",
   "execution_count": 25,
   "id": "aquatic-affiliate",
   "metadata": {},
   "outputs": [
    {
     "data": {
      "image/png": "[encoded data removed]",
      "text/plain": [
       "<Figure size 864x432 with 8 Axes>"
      ]
     },
     "metadata": {
      "needs_background": "light"
     },
     "output_type": "display_data"
    }
   ],
   "source": [
    "fig, axes = plt.subplots(nrows=2, ncols=4, figsize=(12, 6))\n",
    "fig.tight_layout() # Or equivalently,  \"plt.tight_layout()\"\n",
    "fig.subplots_adjust(hspace=0.4)\n",
    "\"\"\"for i in range(8):\n",
    "    plt.subplot(2, 4, i+1)\n",
    "    plt.xlabel(feature_list[i])\n",
    "    plt.title(feature_list[i])\"\"\"\n",
    "\n",
    "highE = 80\n",
    "\n",
    "plt.subplot(2,4,1)\n",
    "plt.hist(ndata[:,0],bins=30,range=(0,highE),alpha=0.5,edgecolor=\"black\",label=\"good neutrons\")\n",
    "plt.hist(pdata[:,0],bins=30,range=(0,highE),alpha=0.5,edgecolor=\"black\",label=\"fake neutrons\")\n",
    "plt.xlabel(feature_list[0])\n",
    "plt.title(feature_list[0])\n",
    "plt.legend()\n",
    "plt.subplot(2,4,2)\n",
    "plt.hist(ndata[:,1],bins=3,range=(0,3),alpha=0.5,edgecolor=\"black\",label=\"good neutrons\")\n",
    "plt.hist(pdata[:,1],bins=3,range=(0,3),alpha=0.5,edgecolor=\"black\",label=\"fake neutrons\")\n",
    "plt.xlabel(feature_list[1])\n",
    "plt.title(feature_list[1])\n",
    "plt.legend()\n",
    "plt.subplot(2,4,3)\n",
    "plt.hist(ndata[:,2],bins=5,range=(0,5),alpha=0.5,edgecolor=\"black\",label=\"good neutrons\")\n",
    "plt.hist(pdata[:,2],bins=5,range=(0,5),alpha=0.5,edgecolor=\"black\",label=\"fake neutrons\")\n",
    "plt.xlabel(feature_list[2])\n",
    "plt.title(feature_list[2])\n",
    "plt.legend()\n",
    "plt.subplot(2,4,4)\n",
    "plt.hist(ndata[:,3],bins=10,range=(0,10),alpha=0.5,edgecolor=\"black\",label=\"good neutrons\")\n",
    "plt.hist(pdata[:,3],bins=10,range=(0,10),alpha=0.5,edgecolor=\"black\",label=\"fake neutrons\")\n",
    "plt.xlabel(feature_list[3])\n",
    "plt.title(feature_list[3])\n",
    "plt.legend()\n",
    "plt.subplot(2,4,5)\n",
    "plt.hist(ndata[:,4],bins=30,range=(0,highE),alpha=0.5,edgecolor=\"black\",label=\"good neutrons\")\n",
    "plt.hist(pdata[:,4],bins=30,range=(0,highE),alpha=0.5,edgecolor=\"black\",label=\"fake neutrons\")\n",
    "plt.xlabel(feature_list[4])\n",
    "plt.title(feature_list[4])\n",
    "plt.legend()\n",
    "plt.subplot(2,4,6)\n",
    "plt.hist(ndata[:,5],bins=30,range=(0,highE),alpha=0.5,edgecolor=\"black\",label=\"good neutrons\")\n",
    "plt.hist(pdata[:,5],bins=30,range=(0,highE),alpha=0.5,edgecolor=\"black\",label=\"fake neutrons\")\n",
    "plt.xlabel(feature_list[5])\n",
    "plt.title(feature_list[5])\n",
    "plt.legend()\n",
    "plt.subplot(2,4,7)\n",
    "plt.hist(ndata[:,6],bins=7,range=(0,6),alpha=0.5,edgecolor=\"black\",label=\"good neutrons\")\n",
    "plt.hist(pdata[:,6],bins=7,range=(0,6),alpha=0.5,edgecolor=\"black\",label=\"fake neutrons\")\n",
    "plt.xlabel(feature_list[6])\n",
    "plt.title(feature_list[6])\n",
    "plt.legend()\n",
    "plt.subplot(2,4,8)\n",
    "plt.hist(ndata[:,7],bins=50,range=(-60,360),alpha=0.5,edgecolor=\"black\",label=\"good neutrons\")\n",
    "plt.hist(pdata[:,7],bins=50,range=(-60,360),alpha=0.5,edgecolor=\"black\",label=\"fake neutrons\")\n",
    "plt.xlabel(feature_list[7])\n",
    "plt.title(feature_list[7])\n",
    "plt.legend()\n",
    "\n",
    "\n",
    "#plt.subplot(2,4,8)\n",
    "#plt.axis(\"off\")\n",
    "\n",
    "plt.savefig(\"d2_features.png\")"
   ]
  },
  {
   "cell_type": "markdown",
   "id": "linear-heather",
   "metadata": {},
   "source": [
    "# TEST ON SIMULATION"
   ]
  },
  {
   "cell_type": "code",
   "execution_count": 26,
   "id": "limited-arena",
   "metadata": {},
   "outputs": [
    {
     "name": "stdout",
     "output_type": "stream",
     "text": [
      "(34059, 8)\n",
      "(38036, 8)\n",
      "0.45567653790138013\n"
     ]
    }
   ],
   "source": [
    "filepath = \"/w/hallb-scshelf2102/clas/clase2/erins/repos/neutron-veto/Simulation_eN/\"\n",
    "sim_neutron_names = glob(filepath + \"eN_bknd/bknd_txt/good_neutrons_*.txt\")\n",
    "sim_n_arrays = [np.genfromtxt(f, invalid_raise=False) for f in sim_neutron_names]\n",
    "sim_ndata = np.concatenate(sim_n_arrays, axis=0)[0:274000,:]\n",
    "# only 333 neutrons in e'p\n",
    "\n",
    "\n",
    "sim_proton_names = glob(filepath + \"eN_bknd/bknd_txt/fake_neutrons_*.txt\")\n",
    "sim_p_arrays = [np.genfromtxt(f, invalid_raise=False) for f in sim_proton_names]\n",
    "sim_pdata = np.concatenate(sim_p_arrays, axis=0)[0:274000,:]\n",
    "\n",
    "sim_ny = np.zeros(len(sim_ndata)) # neutrons - assigned 0\n",
    "sim_py = np.ones(len(sim_pdata)) # protons - assigned 1\n",
    "\n",
    "print(np.shape(sim_ndata))\n",
    "print(np.shape(sim_pdata))\n",
    "\n",
    "sim_myX = np.concatenate((sim_ndata,sim_pdata),axis=0)\n",
    "sim_myX = np.nan_to_num(sim_myX, nan=0)\n",
    "sim_myY = np.concatenate((sim_ny,sim_py),axis=0)\n",
    "\n",
    "print(clf.score(sim_myX,sim_myY))"
   ]
  },
  {
   "cell_type": "markdown",
   "id": "western-mississippi",
   "metadata": {},
   "source": [
    "# TEST ON pFD"
   ]
  },
  {
   "cell_type": "code",
   "execution_count": 31,
   "id": "incorrect-shoot",
   "metadata": {},
   "outputs": [
    {
     "ename": "ValueError",
     "evalue": "need at least one array to concatenate",
     "output_type": "error",
     "traceback": [
      "\u001b[0;31m---------------------------------------------------------------------------\u001b[0m",
      "\u001b[0;31mValueError\u001b[0m                                Traceback (most recent call last)",
      "\u001b[0;32m<ipython-input-31-5239a340d9bd>\u001b[0m in \u001b[0;36m<module>\u001b[0;34m\u001b[0m\n\u001b[1;32m      2\u001b[0m \u001b[0mfd_neutron_names\u001b[0m \u001b[0;34m=\u001b[0m \u001b[0mglob\u001b[0m\u001b[0;34m(\u001b[0m\u001b[0mfilepath\u001b[0m \u001b[0;34m+\u001b[0m \u001b[0;34m\"goodn_jus_pFD_015*.txt\"\u001b[0m\u001b[0;34m)\u001b[0m\u001b[0;34m\u001b[0m\u001b[0;34m\u001b[0m\u001b[0m\n\u001b[1;32m      3\u001b[0m \u001b[0mfd_n_arrays\u001b[0m \u001b[0;34m=\u001b[0m \u001b[0;34m[\u001b[0m\u001b[0mnp\u001b[0m\u001b[0;34m.\u001b[0m\u001b[0mgenfromtxt\u001b[0m\u001b[0;34m(\u001b[0m\u001b[0mf\u001b[0m\u001b[0;34m,\u001b[0m \u001b[0minvalid_raise\u001b[0m\u001b[0;34m=\u001b[0m\u001b[0;32mFalse\u001b[0m\u001b[0;34m)\u001b[0m \u001b[0;32mfor\u001b[0m \u001b[0mf\u001b[0m \u001b[0;32min\u001b[0m \u001b[0mfd_neutron_names\u001b[0m\u001b[0;34m]\u001b[0m\u001b[0;34m\u001b[0m\u001b[0;34m\u001b[0m\u001b[0m\n\u001b[0;32m----> 4\u001b[0;31m \u001b[0mfd_ndata\u001b[0m \u001b[0;34m=\u001b[0m \u001b[0mnp\u001b[0m\u001b[0;34m.\u001b[0m\u001b[0mconcatenate\u001b[0m\u001b[0;34m(\u001b[0m\u001b[0mfd_n_arrays\u001b[0m\u001b[0;34m,\u001b[0m \u001b[0maxis\u001b[0m\u001b[0;34m=\u001b[0m\u001b[0;36m0\u001b[0m\u001b[0;34m)\u001b[0m\u001b[0;34m[\u001b[0m\u001b[0;36m0\u001b[0m\u001b[0;34m:\u001b[0m\u001b[0;36m274000\u001b[0m\u001b[0;34m,\u001b[0m\u001b[0;34m:\u001b[0m\u001b[0;34m]\u001b[0m\u001b[0;34m\u001b[0m\u001b[0;34m\u001b[0m\u001b[0m\n\u001b[0m\u001b[1;32m      5\u001b[0m \u001b[0;31m# only 333 neutrons in e'p\u001b[0m\u001b[0;34m\u001b[0m\u001b[0;34m\u001b[0m\u001b[0;34m\u001b[0m\u001b[0m\n\u001b[1;32m      6\u001b[0m \u001b[0;34m\u001b[0m\u001b[0m\n",
      "\u001b[0;32m<__array_function__ internals>\u001b[0m in \u001b[0;36mconcatenate\u001b[0;34m(*args, **kwargs)\u001b[0m\n",
      "\u001b[0;31mValueError\u001b[0m: need at least one array to concatenate"
     ]
    }
   ],
   "source": [
    "filepath = \"/lustre19/expphy/volatile/clas12/users/erins/neutron-veto/d_2gev2gev_txt/\"\n",
    "fd_neutron_names = glob(filepath + \"goodn_jus_pFD_015*.txt\")\n",
    "fd_n_arrays = [np.genfromtxt(f, invalid_raise=False) for f in fd_neutron_names]\n",
    "fd_ndata = np.concatenate(fd_n_arrays, axis=0)[0:274000,:]\n",
    "# only 333 neutrons in e'p\n",
    "\n",
    "\n",
    "fd_proton_names = glob(filepath + \"badn_jus_pFD_015*.txt\")\n",
    "fd_p_arrays = [np.genfromtxt(f, invalid_raise=False) for f in fd_proton_names]\n",
    "fd_pdata = np.concatenate(fd_p_arrays, axis=0)[0:274000,:]\n",
    "\n",
    "fd_ny = np.zeros(len(fd_ndata)) # neutrons - assigned 0\n",
    "fd_py = np.ones(len(fd_pdata)) # protons - assigned 1\n",
    "\n",
    "print(np.shape(fd_ndata))\n",
    "print(np.shape(fd_pdata))\n",
    "\n",
    "fd_myX = np.concatenate((fd_ndata,fd_pdata),axis=0)\n",
    "fd_myX = np.nan_to_num(fd_myX, nan=0)\n",
    "fd_myY = np.concatenate((fd_ny,fd_py),axis=0)\n",
    "\n",
    "print(clf.score(fd_myX,fd_myY))"
   ]
  },
  {
   "cell_type": "markdown",
   "id": "sweet-victim",
   "metadata": {},
   "source": [
    "# Test on 6 GeV"
   ]
  },
  {
   "cell_type": "code",
   "execution_count": 29,
   "id": "surprising-wedding",
   "metadata": {},
   "outputs": [
    {
     "name": "stdout",
     "output_type": "stream",
     "text": [
      "(4155, 8)\n",
      "(1500, 8)\n",
      "0.7372236958443855\n"
     ]
    }
   ],
   "source": [
    "filepath = \"/w/hallb-scshelf2102/clas/clase2/erins/repos/neutron-veto/d_6gev/6gev_txt/\"\n",
    "fd_neutron_names = glob(filepath + \"goodn_jus_pCD_015*.txt\")\n",
    "fd_n_arrays = [np.genfromtxt(f, invalid_raise=False) for f in fd_neutron_names]\n",
    "fd_ndata = np.concatenate(fd_n_arrays, axis=0)[0:274000,:]\n",
    "# only 333 neutrons in e'p\n",
    "\n",
    "\n",
    "fd_proton_names = glob(filepath + \"badn_jus_pCD_015*.txt\")\n",
    "fd_p_arrays = [np.genfromtxt(f, invalid_raise=False) for f in fd_proton_names]\n",
    "fd_pdata = np.concatenate(fd_p_arrays, axis=0)[0:274000,:]\n",
    "\n",
    "fd_ny = np.zeros(len(fd_ndata)) # neutrons - assigned 0\n",
    "fd_py = np.ones(len(fd_pdata)) # protons - assigned 1\n",
    "\n",
    "print(np.shape(fd_ndata))\n",
    "print(np.shape(fd_pdata))\n",
    "\n",
    "fd_myX = np.concatenate((fd_ndata,fd_pdata),axis=0)\n",
    "fd_myX = np.nan_to_num(fd_myX, nan=0)\n",
    "fd_myY = np.concatenate((fd_ny,fd_py),axis=0)\n",
    "\n",
    "print(clf.score(fd_myX,fd_myY))"
   ]
  },
  {
   "cell_type": "code",
   "execution_count": null,
   "id": "level-seeking",
   "metadata": {},
   "outputs": [],
   "source": []
  },
  {
   "cell_type": "code",
   "execution_count": null,
   "id": "stunning-oasis",
   "metadata": {},
   "outputs": [],
   "source": []
  }
 ],
 "metadata": {
  "kernelspec": {
   "display_name": "Python 3",
   "language": "python",
   "name": "python3"
  },
  "language_info": {
   "codemirror_mode": {
    "name": "ipython",
    "version": 3
   },
   "file_extension": ".py",
   "mimetype": "text/x-python",
   "name": "python",
   "nbconvert_exporter": "python",
   "pygments_lexer": "ipython3",
   "version": "3.8.6"
  }
 },
 "nbformat": 4,
 "nbformat_minor": 5
}
